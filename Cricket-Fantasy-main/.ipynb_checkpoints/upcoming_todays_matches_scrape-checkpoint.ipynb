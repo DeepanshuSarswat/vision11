{
 "cells": [
  {
   "cell_type": "code",
   "execution_count": 1,
   "id": "7ee3bd6e",
   "metadata": {},
   "outputs": [],
   "source": [
    "#makes a request at cricbuzz per day from celery\n",
    "import requests\n",
    "from bs4 import BeautifulSoup\n",
    "import json\n",
    "from operator import *"
   ]
  },
  {
   "cell_type": "code",
   "execution_count": 2,
   "id": "c89f9684",
   "metadata": {},
   "outputs": [],
   "source": [
    "URL = \"https://www.cricbuzz.com/cricket-schedule/upcoming-series/all\""
   ]
  },
  {
   "cell_type": "code",
   "execution_count": 3,
   "id": "a35a1c21",
   "metadata": {},
   "outputs": [],
   "source": [
    "matches = requests.get(URL).text\n",
    "soup = BeautifulSoup(matches, 'html.parser')"
   ]
  },
  {
   "cell_type": "code",
   "execution_count": 18,
   "id": "1a64756a",
   "metadata": {},
   "outputs": [
    {
     "name": "stdout",
     "output_type": "stream",
     "text": [
      "['https://www.cricbuzz.com/live-cricket-scorecard/47414/uaew-vs-hkw-1st-t20i-hong-kong-women-tour-of-uae-2022', 'https://www.cricbuzz.com/live-cricket-scorecard/46081/gt-vs-srh-40th-match-indian-premier-league-2022', 'https://www.cricbuzz.com/live-cricket-scorecard/47549/zimxi-vs-rsaa-2nd-unofficial-odi-south-africa-a-tour-of-zimbabwe-2022']\n",
      "['UAEW vs HKW, 1st T20I Live Cricket Score', 'GT vs SRH, 40th Match Live Cricket Score', 'ZIMXI vs RSAA, 2nd unofficial ODI Live Cricket Score']\n",
      "['03:00 PM', '02:00 PM', '07:15 AM']\n"
     ]
    }
   ],
   "source": [
    "allmatches = soup.find_all('div',id='all-list')[0]\n",
    "todays_match = allmatches.find_all('div',class_='cb-col-100 cb-col')[0]\n",
    "match_links = []\n",
    "match_titles = []\n",
    "match_times = []\n",
    "BASE_URL = 'https://www.cricbuzz.com'\n",
    "\n",
    "matchlist = todays_match.find_all('div',class_='cb-col-100 cb-col')\n",
    "cntr = 0\n",
    "for match in matchlist:\n",
    "    matches = match.find_all('div',class_='cb-ovr-flo cb-col-60 cb-col cb-mtchs-dy-vnu cb-adjst-lst')[0]\n",
    "    dummy_link = matches.find_all('a')[0]\n",
    "    link = dummy_link['href']\n",
    "    useful_link = BASE_URL+link.replace('live-cricket-scores','live-cricket-scorecard')\n",
    "    match_links.append(useful_link)\n",
    "    match_titles.append(dummy_link['title'])\n",
    "    cntr += 1\n",
    "    \n",
    "times = allmatches.find_all('div',class_='cb-col-40 cb-col cb-mtchs-dy-tm cb-adjst-lst')\n",
    "for time in times:\n",
    "    if cntr == 0:\n",
    "        break\n",
    "    matchtime = time.find_all('div',class_='cb-font-12 text-gray')[0]\n",
    "    servertimegmt = matchtime.find_all('span')[0]\n",
    "    match_times.append(servertimegmt.get_text())\n",
    "    cntr -= 1\n",
    "    \n",
    "print(match_links)\n",
    "print(match_titles)\n",
    "print(match_times)"
   ]
  },
  {
   "cell_type": "code",
   "execution_count": null,
   "id": "d5aaf214",
   "metadata": {},
   "outputs": [],
   "source": []
  }
 ],
 "metadata": {
  "kernelspec": {
   "display_name": "Python 3 (ipykernel)",
   "language": "python",
   "name": "python3"
  },
  "language_info": {
   "codemirror_mode": {
    "name": "ipython",
    "version": 3
   },
   "file_extension": ".py",
   "mimetype": "text/x-python",
   "name": "python",
   "nbconvert_exporter": "python",
   "pygments_lexer": "ipython3",
   "version": "3.9.6"
  }
 },
 "nbformat": 4,
 "nbformat_minor": 5
}
